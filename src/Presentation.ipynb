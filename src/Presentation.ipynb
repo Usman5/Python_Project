{
 "cells": [
  {
   "cell_type": "code",
   "execution_count": 7,
   "id": "3b70612c",
   "metadata": {},
   "outputs": [
    {
     "name": "stdout",
     "output_type": "stream",
     "text": [
      "[5, 6, 7, 8, 9]\n",
      "[0, 3, 6, 9]\n",
      "[-10, -40, -70]\n"
     ]
    }
   ],
   "source": [
    "# The range function generates arithmetic sequences:\n",
    "# range(start, stop, step)\n",
    "# start (optional): The starting value of the sequence (default is 0).\n",
    "# stop (required): The value at which to stop (not included in the output).\n",
    "# step (optional): The difference between each number in the sequence (default is 1)\n",
    "# The step defines how much to increment (or decrement) the number each time.\n",
    "\n",
    "print(list(range(5, 10)))\n",
    "\n",
    "print(list(range(0, 10, 3)))\n",
    "\n",
    "print(list(range(-10, -100, -30)))\n"
   ]
  },
  {
   "cell_type": "code",
   "execution_count": 8,
   "id": "43512148",
   "metadata": {},
   "outputs": [
    {
     "name": "stdout",
     "output_type": "stream",
     "text": [
      "0\n",
      "1\n",
      "2\n",
      "3\n",
      "4\n"
     ]
    }
   ],
   "source": [
    "# You can use range in a for loop to iterate over a sequence of numbers\n",
    "for i in range(5):\n",
    "    print(i)"
   ]
  },
  {
   "cell_type": "code",
   "execution_count": 9,
   "id": "3941b30f",
   "metadata": {},
   "outputs": [
    {
     "name": "stdout",
     "output_type": "stream",
     "text": [
      "Mary\n",
      "had\n",
      "a\n",
      "little\n",
      "lamb\n"
     ]
    }
   ],
   "source": [
    "# To iterate over the indices of a list, you can combine range() and len() as follows:\n",
    "a = ['Mary', 'had', 'a', 'little', 'lamb']\n",
    "for i in range(len(a)):\n",
    "    print(a[i])"
   ]
  },
  {
   "cell_type": "code",
   "execution_count": 10,
   "id": "349933b3",
   "metadata": {},
   "outputs": [
    {
     "name": "stdout",
     "output_type": "stream",
     "text": [
      "10\n",
      "0 3\n",
      "1 4\n",
      "2 5\n"
     ]
    }
   ],
   "source": [
    "# Other Functions / Constructs That Commonly Take range()\n",
    "total = sum(range(5))  \n",
    "print(total) \n",
    "\n",
    "for index, value in enumerate(range(3, 6)):\n",
    "    print(index, value)"
   ]
  },
  {
   "cell_type": "code",
   "execution_count": 11,
   "id": "496002f2",
   "metadata": {},
   "outputs": [
    {
     "name": "stdout",
     "output_type": "stream",
     "text": [
      "0\n",
      "1\n",
      "2\n",
      "3\n",
      "4\n",
      "5\n",
      "Breaking out of the loop.\n"
     ]
    }
   ],
   "source": [
    "# The break statement is used to exit a loop prematurely.\n",
    "# Example of using break in a for loop:\n",
    "for i in range(10):\n",
    "    print(i)\n",
    "    if i == 5:\n",
    "        print(\"Breaking out of the loop.\")\n",
    "        break  # Exit the loop when i is 5"
   ]
  },
  {
   "cell_type": "code",
   "execution_count": 12,
   "id": "d24eb7e2",
   "metadata": {},
   "outputs": [
    {
     "name": "stdout",
     "output_type": "stream",
     "text": [
      "You entered: a\n",
      "You entered: s\n",
      "You entered: d\n"
     ]
    }
   ],
   "source": [
    "# Example of using break in a while loop:\n",
    "while True:\n",
    "    user_input = input(\"Enter 'exit' to stop: \")\n",
    "    if user_input == 'exit':\n",
    "        break\n",
    "    print(f\"You entered: {user_input}\")"
   ]
  },
  {
   "cell_type": "code",
   "execution_count": 13,
   "id": "b8deb500",
   "metadata": {},
   "outputs": [
    {
     "name": "stdout",
     "output_type": "stream",
     "text": [
      "Checking: 1\n",
      "Checking: 2\n",
      "Checking: 3\n",
      "Checking: 4\n",
      "Checking: 5\n",
      "Found 5!\n",
      "Checking: 7\n",
      "Checking: 8\n",
      "Checking: 9\n"
     ]
    }
   ],
   "source": [
    "# The break statement breaks out of the innermost enclosing for or while loop:\n",
    "# Here’s a clear example of using break in a nested for loop—meaning one loop is inside another.\n",
    "# Using break in this context typically exits only the inner loop, not both.\n",
    "matrix = [\n",
    "    [1, 2, 3],\n",
    "    [4, 5, 6],\n",
    "    [7, 8, 9]\n",
    "]\n",
    "\n",
    "target = 5\n",
    "\n",
    "for row in matrix:\n",
    "    for value in row:\n",
    "        print(f\"Checking: {value}\")\n",
    "        if value == target:\n",
    "            print(f\"Found {target}!\")\n",
    "            break  # Exits the inner loop only\n"
   ]
  },
  {
   "cell_type": "code",
   "execution_count": 14,
   "id": "c979e548",
   "metadata": {},
   "outputs": [
    {
     "name": "stdout",
     "output_type": "stream",
     "text": [
      "1\n",
      "3\n",
      "5\n"
     ]
    }
   ],
   "source": [
    "# The continue statementis used inside loops to skip the rest of the current iteration and move directly to the next one.\n",
    "# Example of using continue in a for loop to skip even numbers:\n",
    "for i in range(1, 6):\n",
    "    if i % 2 == 0:\n",
    "        continue\n",
    "    print(i)\n"
   ]
  },
  {
   "cell_type": "code",
   "execution_count": null,
   "id": "b78f633e",
   "metadata": {},
   "outputs": [
    {
     "name": "stdout",
     "output_type": "stream",
     "text": [
      "4 not found in the list.\n",
      "4 not found in the list.\n",
      "4 not found in the list.\n",
      "4 not found in the list.\n",
      "4 not found in the list.\n"
     ]
    }
   ],
   "source": [
    "# Using an else clause with a for loop:\n",
    "# The else block after a for loop executes only if the loop completes normally (i.e., not terminated by a break statement).\n",
    "numbers = [1, 3, 5, 7, 9]\n",
    "\n",
    "for num in numbers:\n",
    "    if num == 4:\n",
    "        print(\"Found 4!\")\n",
    "        break\n",
    "else:\n",
    "    print(\"4 not found in the list.\")\n"
   ]
  },
  {
   "cell_type": "code",
   "execution_count": null,
   "id": "a0525270",
   "metadata": {},
   "outputs": [],
   "source": [
    "# The pass statement is a null operation; it’s a placeholder that does nothing when executed.\n",
    "# It's used to avoid syntax errors where python expects a statement but you don't want to execute anything.\n",
    "# Example of using pass in a loop:\n",
    "for i in range(5):\n",
    "    if i == 3:\n",
    "        pass  # Placeholder for future code\n",
    "    else:\n",
    "        print(i)\n",
    "\n",
    "def future_function():\n",
    "    pass  # To be implemented later\n",
    "\n",
    "class MyClass:\n",
    "    pass\n"
   ]
  },
  {
   "cell_type": "code",
   "execution_count": null,
   "id": "5823b486",
   "metadata": {},
   "outputs": [],
   "source": [
    "# Match works similarly to switch-case statements in other languages, like C or Java.\n",
    "# It allows you to match a value against a series of patterns and execute code based on the first match.\n",
    "# The _ case is the default fallback if no other patterns match.\n",
    "# Example of using match-case to handle different HTTP status codes:\n",
    "\n",
    "http_status = 100  # You can change this value to test different cases\n",
    "\n",
    "match http_status:\n",
    "    case 200:\n",
    "        print(\"OK - The request has succeeded.\")\n",
    "    case 201:\n",
    "        print(\"Created - The request has been fulfilled and resulted in a new resource being created.\")\n",
    "    case 400:\n",
    "        print(\"Bad Request - The server could not understand the request.\")\n",
    "    case 401:\n",
    "        print(\"Unauthorized - Authentication is required.\")\n",
    "    case 403:\n",
    "        print(\"Forbidden - You do not have permission to access this resource.\")\n",
    "    case 404:\n",
    "        print(\"Not Found - The requested resource could not be found.\")\n",
    "    case 500:\n",
    "        print(\"Internal Server Error - Something went wrong on the server.\")\n",
    "    case _:\n",
    "        print(\"Unknown status code.\")\n",
    "\n"
   ]
  },
  {
   "cell_type": "code",
   "execution_count": 22,
   "id": "c5e3417e",
   "metadata": {},
   "outputs": [
    {
     "name": "stdout",
     "output_type": "stream",
     "text": [
      "Welcome, administrator.\n"
     ]
    }
   ],
   "source": [
    "# The match-case statement can also be used for more complex patterns\n",
    "# We can add an if clause to a pattern, known as a “guard”. If the guard is false, match goes on to try the next case block. \n",
    "\n",
    "username = \"admin\"\n",
    "\n",
    "match username:\n",
    "    case name if name == \"admin\":\n",
    "        print(\"Welcome, administrator.\")\n",
    "    case name if name == \"guest\":\n",
    "        print(\"Welcome, guest user.\")\n",
    "    case name if len(name) < 3:\n",
    "        print(\"Username too short.\")\n",
    "    case _:\n",
    "        print(f\"Welcome, {username}.\")\n",
    "\n"
   ]
  },
  {
   "cell_type": "code",
   "execution_count": 23,
   "id": "b5788d46",
   "metadata": {},
   "outputs": [
    {
     "name": "stdout",
     "output_type": "stream",
     "text": [
      "The sum is: 8\n"
     ]
    }
   ],
   "source": [
    "# Simple function to add two numbers\n",
    "def add_numbers(a, b):\n",
    "    return a + b\n",
    "\n",
    "# Example usage:\n",
    "result = add_numbers(3, 5)\n",
    "print(\"The sum is:\", result)\n"
   ]
  },
  {
   "cell_type": "code",
   "execution_count": 24,
   "id": "1c149c16",
   "metadata": {},
   "outputs": [
    {
     "name": "stdout",
     "output_type": "stream",
     "text": [
      "0 1 1 2 3 5 8 13 21 34 55 89 144 233 377 610 987 1597 \n"
     ]
    }
   ],
   "source": [
    "# Function that prints a Fibonacci series less than or equal to n;\n",
    "def fib(n):    \n",
    "    a, b = 0, 1\n",
    "    while a <= n:\n",
    "        print(a, end=' ')\n",
    "        a, b = b, a+b\n",
    "    print()\n",
    "\n",
    "# Now call the function we just defined:\n",
    "fib(2000)"
   ]
  },
  {
   "cell_type": "code",
   "execution_count": 25,
   "id": "86081b69",
   "metadata": {},
   "outputs": [
    {
     "name": "stdout",
     "output_type": "stream",
     "text": [
      "120.0\n",
      "110.0\n"
     ]
    }
   ],
   "source": [
    "# Example of a function with default parameters:\n",
    "# This function calculates the price of an item, including tax.\n",
    "# The default tax rate is set to 20% (0.2).\n",
    "def calculate_price(price, tax_rate=0.2):\n",
    "    return price + (price * tax_rate)\n",
    "\n",
    "# Example usage:\n",
    "print(calculate_price(100))         # Uses default tax_rate (20%) → Output: 120.0\n",
    "print(calculate_price(100, 0.1))    # Uses custom tax_rate (10%) → Output: 110.0\n",
    "\n"
   ]
  },
  {
   "cell_type": "code",
   "execution_count": null,
   "id": "d88f3031",
   "metadata": {},
   "outputs": [],
   "source": [
    "# Keyword arguments allow you to specify the names of the parameters when calling a function.\n",
    "# This can make the code more readable and allows you to skip optional parameters.\n",
    "\n",
    "def total_cost(price, quantity=1, shipping=5):\n",
    "    total = price * quantity + shipping\n",
    "    print(\"Price:\", price)\n",
    "    print(\"Quantity:\", quantity)\n",
    "    print(\"Shipping:\", shipping)\n",
    "    print(\"Total cost:\", total)\n",
    "\n",
    "# Using keyword arguments\n",
    "total_cost(price=20, quantity=3, shipping=10)\n"
   ]
  }
 ],
 "metadata": {
  "kernelspec": {
   "display_name": "Python_Project",
   "language": "python",
   "name": "python3"
  },
  "language_info": {
   "codemirror_mode": {
    "name": "ipython",
    "version": 3
   },
   "file_extension": ".py",
   "mimetype": "text/x-python",
   "name": "python",
   "nbconvert_exporter": "python",
   "pygments_lexer": "ipython3",
   "version": "3.13.3"
  }
 },
 "nbformat": 4,
 "nbformat_minor": 5
}
