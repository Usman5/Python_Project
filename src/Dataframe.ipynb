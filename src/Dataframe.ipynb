{
 "cells": [
  {
   "cell_type": "code",
   "execution_count": 288,
   "id": "e2795b57",
   "metadata": {},
   "outputs": [],
   "source": [
    "import pandas as pd"
   ]
  },
  {
   "cell_type": "code",
   "execution_count": 289,
   "id": "c299effa",
   "metadata": {},
   "outputs": [],
   "source": [
    "# Read CSV files into pandas DataFrames\n",
    "df1 = pd.read_csv('../files/employees.csv')\n",
    "df2 = pd.read_csv('../files/projects.csv')\n",
    "df3 = pd.read_csv('../files/departments.csv')\n",
    "df4 = pd.read_csv('../files/locations.csv')\n",
    "df5 = pd.read_csv('../files/salaries.csv')"
   ]
  },
  {
   "cell_type": "code",
   "execution_count": 290,
   "id": "d7057d10",
   "metadata": {},
   "outputs": [
    {
     "name": "stdout",
     "output_type": "stream",
     "text": [
      "   EmployeeID       Name   Department  Salary\n",
      "0           1       John  Engineering   55000\n",
      "1           2       Anna    Marketing   46000\n",
      "2           3      Peter  Engineering   60000\n",
      "3           4      Linda           HR   75000\n",
      "4           5      James    Marketing   49000\n",
      "5           6   Patricia  Engineering   52000\n",
      "6           7    Michael           HR   82000\n",
      "7           8  Elizabeth  Engineering   67000\n",
      "8           9      David    Marketing   43000\n",
      "9          10      Susan           HR   90000\n"
     ]
    }
   ],
   "source": [
    "# Print the dataframe to verify it is loaded correctly\n",
    "print(df1)"
   ]
  },
  {
   "cell_type": "code",
   "execution_count": 292,
   "id": "5ffc86c4",
   "metadata": {},
   "outputs": [
    {
     "name": "stdout",
     "output_type": "stream",
     "text": [
      "Number of rows: 10\n",
      "Number of columns: 4\n"
     ]
    }
   ],
   "source": [
    "# Get the shape of the dataframe\n",
    "# This will return a tuple (number of rows, number of columns)\n",
    "rows, columns = df1.shape\n",
    "print(f\"Number of rows: {rows}\")\n",
    "print(f\"Number of columns: {columns}\")"
   ]
  },
  {
   "cell_type": "code",
   "execution_count": null,
   "id": "ca528964",
   "metadata": {},
   "outputs": [
    {
     "name": "stdout",
     "output_type": "stream",
     "text": [
      "count       10.000000\n",
      "mean     61900.000000\n",
      "std      16044.729145\n",
      "min      43000.000000\n",
      "25%      49750.000000\n",
      "50%      57500.000000\n",
      "75%      73000.000000\n",
      "max      90000.000000\n",
      "Name: Salary, dtype: float64\n"
     ]
    }
   ],
   "source": [
    "# Summary statistics of numerical columns\n",
    "print(df1['Salary'].describe())"
   ]
  },
  {
   "cell_type": "code",
   "execution_count": 294,
   "id": "9dd24421",
   "metadata": {},
   "outputs": [
    {
     "name": "stdout",
     "output_type": "stream",
     "text": [
      "EmployeeID     int64\n",
      "Name          object\n",
      "Department    object\n",
      "Salary         int64\n",
      "dtype: object\n"
     ]
    }
   ],
   "source": [
    "# Print the data types of each column in the DataFrame\n",
    "print(df1.dtypes)"
   ]
  },
  {
   "cell_type": "code",
   "execution_count": 295,
   "id": "3f321cd5",
   "metadata": {},
   "outputs": [
    {
     "name": "stdout",
     "output_type": "stream",
     "text": [
      "EmployeeID    0\n",
      "Name          0\n",
      "Department    0\n",
      "Salary        0\n",
      "dtype: int64\n"
     ]
    }
   ],
   "source": [
    "# Check for missing values in each column\n",
    "missing_values = df1.isnull().sum()\n",
    "print(missing_values)"
   ]
  },
  {
   "cell_type": "code",
   "execution_count": null,
   "id": "2e615428",
   "metadata": {},
   "outputs": [],
   "source": [
    "# Rename a column in the DataFrame and print the first 5 rows to confirm\n",
    "# df1.rename(columns={'EmployeeID': 'ID_Employee'}, inplace=True)\n",
    "# print(df1.head())"
   ]
  },
  {
   "cell_type": "code",
   "execution_count": 297,
   "id": "5f3f08b9",
   "metadata": {},
   "outputs": [
    {
     "name": "stdout",
     "output_type": "stream",
     "text": [
      "   EmployeeID       Name   Department  Salary\n",
      "0           1       John  Engineering   55000\n",
      "2           3      Peter  Engineering   60000\n",
      "3           4      Linda           HR   75000\n",
      "5           6   Patricia  Engineering   52000\n",
      "6           7    Michael           HR   82000\n",
      "7           8  Elizabeth  Engineering   67000\n",
      "9          10      Susan           HR   90000\n"
     ]
    }
   ],
   "source": [
    "# Filter the DataFrame where salary is greater than the threshold\n",
    "salary_threshold = 50000\n",
    "filtered_df = df1[df1['Salary'] > salary_threshold]\n",
    "print(filtered_df)"
   ]
  },
  {
   "cell_type": "code",
   "execution_count": 298,
   "id": "4881b300",
   "metadata": {},
   "outputs": [
    {
     "name": "stdout",
     "output_type": "stream",
     "text": [
      "        Name   Department\n",
      "0       John  Engineering\n",
      "1       Anna    Marketing\n",
      "2      Peter  Engineering\n",
      "3      Linda           HR\n",
      "4      James    Marketing\n",
      "5   Patricia  Engineering\n",
      "6    Michael           HR\n",
      "7  Elizabeth  Engineering\n",
      "8      David    Marketing\n",
      "9      Susan           HR\n"
     ]
    }
   ],
   "source": [
    "# Select specific columns\n",
    "selected_columns = df1[['Name', 'Department']]\n",
    "print(selected_columns)"
   ]
  },
  {
   "cell_type": "code",
   "execution_count": 299,
   "id": "9e5bcfe0",
   "metadata": {},
   "outputs": [],
   "source": [
    "# Drop a column from the DataFrame\n",
    "# df1.drop('Department', axis=1, inplace=True)"
   ]
  },
  {
   "cell_type": "code",
   "execution_count": 300,
   "id": "a135ab3c",
   "metadata": {},
   "outputs": [],
   "source": [
    "# Add 10% to each value in the salary column\n",
    "# df1['Salary'] = df1['Salary'] * 1.1"
   ]
  },
  {
   "cell_type": "code",
   "execution_count": null,
   "id": "23511f82",
   "metadata": {},
   "outputs": [],
   "source": [
    "# Add a new column based on an operation on existing columns\n",
    "# df1['New_Salary'] = df1['Salary'] + 1000\n",
    "# print(df1.head())"
   ]
  },
  {
   "cell_type": "code",
   "execution_count": null,
   "id": "f569fe12",
   "metadata": {},
   "outputs": [
    {
     "name": "stdout",
     "output_type": "stream",
     "text": [
      "                   Salary\n",
      "Department               \n",
      "Engineering  58500.000000\n",
      "HR           82333.333333\n",
      "Marketing    46000.000000\n"
     ]
    }
   ],
   "source": [
    "# Group by 'Department' and calculate the mean salary\n",
    "grouped_df = df1.groupby('Department')[['Salary']].mean()\n",
    "print(grouped_df)"
   ]
  },
  {
   "cell_type": "code",
   "execution_count": 315,
   "id": "17593f54",
   "metadata": {},
   "outputs": [
    {
     "name": "stdout",
     "output_type": "stream",
     "text": [
      "   EmployeeID       Name   Department  Salary\n",
      "8           9      David    Marketing   43000\n",
      "1           2       Anna    Marketing   46000\n",
      "4           5      James    Marketing   49000\n",
      "5           6   Patricia  Engineering   52000\n",
      "0           1       John  Engineering   55000\n",
      "2           3      Peter  Engineering   60000\n",
      "7           8  Elizabeth  Engineering   67000\n",
      "3           4      Linda           HR   75000\n",
      "6           7    Michael           HR   82000\n",
      "9          10      Susan           HR   90000\n"
     ]
    }
   ],
   "source": [
    "# Sort the DataFrame by a specific column (e.g., 'Salary')\n",
    "df_sorted = df1.sort_values(by='Salary', ascending=True)\n",
    "print(df_sorted)"
   ]
  },
  {
   "cell_type": "code",
   "execution_count": null,
   "id": "7cea9db9",
   "metadata": {},
   "outputs": [
    {
     "name": "stdout",
     "output_type": "stream",
     "text": [
      "   EmployeeID       Name   Department  Salary  ProjectID      ProjectName\n",
      "0           1       John  Engineering   55000        101    Project Alpha\n",
      "1           2       Anna    Marketing   46000        102     Project Beta\n",
      "2           3      Peter  Engineering   60000        103    Project Gamma\n",
      "3           4      Linda           HR   75000        104    Project Delta\n",
      "4           5      James    Marketing   49000        105  Project Epsilon\n",
      "5           6   Patricia  Engineering   52000        106     Project Zeta\n",
      "6           7    Michael           HR   82000        107      Project Eta\n",
      "7           8  Elizabeth  Engineering   67000        108    Project Theta\n",
      "8           9      David    Marketing   43000        109     Project Iota\n",
      "9          10      Susan           HR   90000        110    Project Kappa\n"
     ]
    }
   ],
   "source": [
    "# Merge two DataFrames on a common column\n",
    "merged_df = pd.merge(df1, df2, on='EmployeeID', how='inner')\n",
    "print(merged_df)"
   ]
  },
  {
   "cell_type": "code",
   "execution_count": 317,
   "id": "5082ede5",
   "metadata": {},
   "outputs": [
    {
     "name": "stdout",
     "output_type": "stream",
     "text": [
      "   EmployeeID_left       Name   Department  Salary  ProjectID  \\\n",
      "0                1       John  Engineering   55000        101   \n",
      "1                2       Anna    Marketing   46000        102   \n",
      "2                3      Peter  Engineering   60000        103   \n",
      "3                4      Linda           HR   75000        104   \n",
      "4                5      James    Marketing   49000        105   \n",
      "5                6   Patricia  Engineering   52000        106   \n",
      "6                7    Michael           HR   82000        107   \n",
      "7                8  Elizabeth  Engineering   67000        108   \n",
      "8                9      David    Marketing   43000        109   \n",
      "9               10      Susan           HR   90000        110   \n",
      "\n",
      "   EmployeeID_right      ProjectName  \n",
      "0                 1    Project Alpha  \n",
      "1                 2     Project Beta  \n",
      "2                 3    Project Gamma  \n",
      "3                 4    Project Delta  \n",
      "4                 5  Project Epsilon  \n",
      "5                 6     Project Zeta  \n",
      "6                 7      Project Eta  \n",
      "7                 8    Project Theta  \n",
      "8                 9     Project Iota  \n",
      "9                10    Project Kappa  \n"
     ]
    }
   ],
   "source": [
    "index_result = df1.join(df2, lsuffix='_left', rsuffix='_right')\n",
    "print(index_result)"
   ]
  },
  {
   "cell_type": "code",
   "execution_count": 318,
   "id": "16f776f7",
   "metadata": {},
   "outputs": [],
   "source": [
    "def subtract_1000(x):\n",
    "    return x - 1000\n",
    "\n",
    "#df1['Salary'] = df1['Salary'].apply(subtract_1000)\n",
    "#print(df1)"
   ]
  },
  {
   "cell_type": "code",
   "execution_count": 319,
   "id": "3a45613e",
   "metadata": {},
   "outputs": [
    {
     "name": "stdout",
     "output_type": "stream",
     "text": [
      "\n",
      "Filtered DataFrame:\n",
      "   EmployeeID      Name   Department  Salary\n",
      "0           1      John  Engineering   55000\n",
      "5           6  Patricia  Engineering   52000\n"
     ]
    }
   ],
   "source": [
    "# Filter rows where Department is 'Engineering' and Salary is less than 60000\n",
    "filtered_df = df1[(df1['Department'] == 'Engineering') & (df1['Salary'] < 60000)]\n",
    "\n",
    "print(\"\\nFiltered DataFrame:\")\n",
    "print(filtered_df)"
   ]
  },
  {
   "cell_type": "code",
   "execution_count": 321,
   "id": "6b1b9ef7",
   "metadata": {},
   "outputs": [],
   "source": [
    "# Save the modified DataFrame to a new CSV file\n",
    "df1.to_csv('modified_employees_data.csv', index=False)"
   ]
  },
  {
   "cell_type": "code",
   "execution_count": 322,
   "id": "62e765d4",
   "metadata": {},
   "outputs": [
    {
     "name": "stdout",
     "output_type": "stream",
     "text": [
      "   EmployeeID       Name   Department  Salary_x  Salary_y  Bonus\n",
      "0           1       John  Engineering     55000     55000   5000\n",
      "1           2       Anna    Marketing     46000     46000   3000\n",
      "2           3      Peter  Engineering     60000     60000   7000\n",
      "3           4      Linda           HR     75000     75000   8000\n",
      "4           5      James    Marketing     49000     49000   2000\n",
      "5           6   Patricia  Engineering     52000     52000   4000\n",
      "6           7    Michael           HR     82000     82000  10000\n",
      "7           8  Elizabeth  Engineering     67000     67000   6000\n",
      "8           9      David    Marketing     43000     43000   1500\n",
      "9          10      Susan           HR     90000     90000  12000\n"
     ]
    }
   ],
   "source": [
    "#Inner Join: Join employees.csv with salaries.csv on EmployeeID to get the salary details for each employee\n",
    "inner_result = pd.merge(df1, df5, on='EmployeeID', how='inner')\n",
    "print(inner_result)\n"
   ]
  },
  {
   "cell_type": "code",
   "execution_count": 323,
   "id": "87cc3ec4",
   "metadata": {},
   "outputs": [
    {
     "name": "stdout",
     "output_type": "stream",
     "text": [
      "   EmployeeID       Name   Department  Salary  DepartmentID        Manager\n",
      "0           1       John  Engineering   55000             1       John Doe\n",
      "1           2       Anna    Marketing   46000             2     Jane Smith\n",
      "2           3      Peter  Engineering   60000             1       John Doe\n",
      "3           4      Linda           HR   75000             3  Michael Brown\n",
      "4           5      James    Marketing   49000             2     Jane Smith\n",
      "5           6   Patricia  Engineering   52000             1       John Doe\n",
      "6           7    Michael           HR   82000             3  Michael Brown\n",
      "7           8  Elizabeth  Engineering   67000             1       John Doe\n",
      "8           9      David    Marketing   43000             2     Jane Smith\n",
      "9          10      Susan           HR   90000             3  Michael Brown\n"
     ]
    }
   ],
   "source": [
    "# Left Join: Join employees.csv with departments.csv on Department to get the department manager for each employee.\n",
    "left_result = pd.merge(df1, df3, on='Department', how='left')\n",
    "print(left_result)"
   ]
  },
  {
   "cell_type": "code",
   "execution_count": 324,
   "id": "6f62027a",
   "metadata": {},
   "outputs": [
    {
     "name": "stdout",
     "output_type": "stream",
     "text": [
      "   EmployeeID  Salary  Bonus       Location\n",
      "0           1   55000   5000       New York\n",
      "1           2   46000   3000  San Francisco\n",
      "2           3   60000   7000         Boston\n",
      "3           4   75000   8000        Chicago\n",
      "4           5   49000   2000    Los Angeles\n",
      "5           6   52000   4000         Austin\n",
      "6           7   82000  10000          Miami\n",
      "7           8   67000   6000         Dallas\n",
      "8           9   43000   1500        Seattle\n",
      "9          10   90000  12000         Denver\n"
     ]
    }
   ],
   "source": [
    "# Full Outer Join: Join salaries.csv with locations.csv on EmployeeID to get salary and location for all employees\n",
    "outer_result = pd.merge(df5, df4, on='EmployeeID', how='outer')\n",
    "print(outer_result)"
   ]
  },
  {
   "cell_type": "code",
   "execution_count": 325,
   "id": "3e4fed14",
   "metadata": {},
   "outputs": [
    {
     "name": "stdout",
     "output_type": "stream",
     "text": [
      "   EmployeeID_emp1 Name_emp1 Department  Salary_emp1  EmployeeID_emp2  \\\n",
      "5                2      Anna  Marketing        46000                5   \n",
      "6                2      Anna  Marketing        46000                9   \n",
      "\n",
      "  Name_emp2  Salary_emp2  \n",
      "5     James        49000  \n",
      "6     David        43000  \n"
     ]
    }
   ],
   "source": [
    "# Join employees.csv with itself based on Department to get the list of employees in the same department as a specific employee\n",
    "self_join_result = pd.merge(df1, df1, on='Department', suffixes=('_emp1', '_emp2'))\n",
    "target_employee = 'Anna'\n",
    "self_join_result = self_join_result[self_join_result['Name_emp1'] == target_employee]\n",
    "self_join_result = self_join_result[self_join_result['EmployeeID_emp1'] != self_join_result['EmployeeID_emp2']]\n",
    "print(self_join_result)\n"
   ]
  }
 ],
 "metadata": {
  "kernelspec": {
   "display_name": "Python_Project",
   "language": "python",
   "name": "python3"
  },
  "language_info": {
   "codemirror_mode": {
    "name": "ipython",
    "version": 3
   },
   "file_extension": ".py",
   "mimetype": "text/x-python",
   "name": "python",
   "nbconvert_exporter": "python",
   "pygments_lexer": "ipython3",
   "version": "3.13.3"
  }
 },
 "nbformat": 4,
 "nbformat_minor": 5
}
